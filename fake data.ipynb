{
 "cells": [
  {
   "cell_type": "markdown",
   "metadata": {},
   "source": [
    "Giby, Kazim, et al. \"Use of methadone for opioid weaning in children: prescribing practices and trends.\" _The Canadian Journal of Hospital Pharmacy_ 67.2 (2014): 149.\n",
    "\n",
    "Anand, Kanwaljeet JS, et al. \"Tolerance and withdrawal from prolonged opioid use in critically ill children.\" _Pediatrics_ 125.5 (2010): e1208-e1225.\n",
    "\n",
    "Bichaff, Pedro, et al. \"Opioid tapering and weaning protocols in pediatric critical care units: a systematic review.\" _Revista da Associação Médica Brasileira_ 64 (2018): 909-915.\n",
    "\n",
    "Dervan, Leslie A., et al. \"The use of methadone to facilitate opioid weaning in pediatric critical care patients: a systematic review of the literature and meta‐analysis.\" _Pediatric Anesthesia_ 27.3 (2017): 228-239.\n",
    "\n",
    "Johnson, Peter N., et al. \"A pilot study assessing the frequency and complexity of methadone tapers for opioid abstinence syndrome in children discharged to home.\" _Research in Social and Administrative Pharmacy_ 8.5 (2012): 455-463.\n",
    "\n",
    "Bowens, Cindy D., et al. \"A trial of methadone tapering schedules in pediatric intensive care unit patients exposed to prolonged sedative infusions.\" _Pediatric Critical Care Medicine_ 12.5 (2011): 504-511.\n",
    "\n",
    "Choonara, I., et al. \"Morphine metabolism in neonates and infants.\" _British journal of clinical pharmacology_ 34.5 (1992): 434-437.\n",
    "\n",
    "Hammer, Gregory. Stanford University. (March 29, 2010 - September 18, 2017). _Measuring the Amount of Methadone or Morphine in the Blood of Neonates, Infants & Children After Cardiac Surgery._ Identifier: NCT01094522. "
   ]
  },
  {
   "cell_type": "code",
   "execution_count": 67,
   "metadata": {},
   "outputs": [],
   "source": [
    "import numpy as np"
   ]
  },
  {
   "cell_type": "code",
   "execution_count": 68,
   "metadata": {},
   "outputs": [
    {
     "data": {
      "text/plain": [
       "9.461156109907721"
      ]
     },
     "execution_count": 68,
     "metadata": {},
     "output_type": "execute_result"
    }
   ],
   "source": [
    "dose"
   ]
  },
  {
   "cell_type": "code",
   "execution_count": 84,
   "metadata": {},
   "outputs": [
    {
     "name": "stdout",
     "output_type": "stream",
     "text": [
      "0.5891803531176955\n",
      "0.4713442824941564\n",
      "0.3770754259953251\n",
      "0.30166034079626014\n",
      "0.24132827263700812\n",
      "0.1930626181096065\n",
      "0.1544500944876852\n",
      "0.12356007559014817\n"
     ]
    }
   ],
   "source": [
    "i = 0\n",
    "newdose = dose/4\n",
    "target = newdose*.2\n",
    "\n",
    "while newdose > target: \n",
    "    newdose *= 0.8\n",
    "    schedule.append(newdose)\n",
    "    days.append(i)\n",
    "    print(newdose)\n",
    "    i += 1"
   ]
  },
  {
   "cell_type": "code",
   "execution_count": 165,
   "metadata": {},
   "outputs": [],
   "source": [
    "schedule = []\n",
    "days = []\n",
    "newdose = dose/4\n",
    "target = newdose*.2\n",
    "schedule.append(newdose)\n",
    "days.append(1)\n",
    "i = 2\n",
    "\n",
    "while newdose > target: \n",
    "    newdose -= target\n",
    "    schedule.append(newdose)\n",
    "    days.append(i)\n",
    "    i += 1\n",
    "\n",
    "interval = [4,3,2,1]\n",
    "for i in range(len(days)-4): \n",
    "    interval.append(1)\n",
    "\n",
    "perdose = [i / j for i,j in zip(schedule, interval)]"
   ]
  },
  {
   "cell_type": "code",
   "execution_count": null,
   "metadata": {},
   "outputs": [],
   "source": []
  },
  {
   "cell_type": "code",
   "execution_count": 210,
   "metadata": {},
   "outputs": [],
   "source": [
    "def fasttaper(dose): \n",
    "    schedule = []\n",
    "    days = []\n",
    "    newdose = dose/4\n",
    "    target = newdose*.2\n",
    "    schedule.append(newdose)\n",
    "    days.append(1)\n",
    "    i = 2\n",
    "\n",
    "    while newdose > target: \n",
    "        newdose -= target\n",
    "        schedule.append(newdose)\n",
    "        days.append(i)\n",
    "        i += 1\n",
    "\n",
    "    interval = [4,3,2,1]\n",
    "    for i in range(len(days)-4): \n",
    "        interval.append(1)\n",
    "\n",
    "    perdose = [i / j for i,j in zip(schedule, interval)]\n",
    "    interval = [int(24/i) for i in interval]\n",
    "    \n",
    "    return(list(zip(days,schedule,perdose,interval)))"
   ]
  },
  {
   "cell_type": "code",
   "execution_count": 211,
   "metadata": {},
   "outputs": [
    {
     "data": {
      "text/plain": [
       "[(1, 0.5487842718435479, 0.13719606796088699, 6),\n",
       " (2, 0.43902741747483837, 0.14634247249161278, 8),\n",
       " (3, 0.3292705631061288, 0.1646352815530644, 12),\n",
       " (4, 0.2195137087374192, 0.2195137087374192, 24),\n",
       " (5, 0.10975685436870962, 0.10975685436870962, 24),\n",
       " (6, 2.7755575615628914e-17, 2.7755575615628914e-17, 24)]"
      ]
     },
     "execution_count": 211,
     "metadata": {},
     "output_type": "execute_result"
    }
   ],
   "source": [
    "smalldose = np.random.normal(5,2)\n",
    "fasttaper(smalldose)"
   ]
  },
  {
   "cell_type": "code",
   "execution_count": 212,
   "metadata": {},
   "outputs": [],
   "source": [
    "def medtaper(dose): \n",
    "    schedule = []\n",
    "    days = []\n",
    "    newdose = dose/4\n",
    "    target = newdose*.1\n",
    "    schedule.append(newdose)\n",
    "    days.append(1)\n",
    "    i = 2\n",
    "\n",
    "    while newdose > target: \n",
    "        newdose -= target\n",
    "        schedule.append(newdose)\n",
    "        days.append(i)\n",
    "        i += 1\n",
    "        \n",
    "    interval = [4,3,2,1]\n",
    "    for i in range(len(days)-4): \n",
    "        interval.append(1)\n",
    "\n",
    "    perdose = [i / j for i,j in zip(schedule, interval)]\n",
    "    interval = [int(24/i) for i in interval]\n",
    "    \n",
    "    return(list(zip(days,schedule,perdose,interval)))"
   ]
  },
  {
   "cell_type": "code",
   "execution_count": 213,
   "metadata": {},
   "outputs": [
    {
     "data": {
      "text/plain": [
       "[(1, 1.3439731900030363, 0.33599329750075907, 6),\n",
       " (2, 1.2095758710027327, 0.40319195700091087, 8),\n",
       " (3, 1.075178552002429, 0.5375892760012145, 12),\n",
       " (4, 0.9407812330021255, 0.9407812330021255, 24),\n",
       " (5, 0.8063839140018219, 0.8063839140018219, 24),\n",
       " (6, 0.6719865950015182, 0.6719865950015182, 24),\n",
       " (7, 0.5375892760012146, 0.5375892760012146, 24),\n",
       " (8, 0.40319195700091104, 0.40319195700091104, 24),\n",
       " (9, 0.26879463800060743, 0.26879463800060743, 24),\n",
       " (10, 0.1343973190003038, 0.1343973190003038, 24),\n",
       " (11, 1.6653345369377348e-16, 1.6653345369377348e-16, 24)]"
      ]
     },
     "execution_count": 213,
     "metadata": {},
     "output_type": "execute_result"
    }
   ],
   "source": [
    "meddose = np.random.normal(5,2)\n",
    "medtaper(meddose)"
   ]
  },
  {
   "cell_type": "code",
   "execution_count": 214,
   "metadata": {},
   "outputs": [],
   "source": [
    "def slowtaper(dose): \n",
    "    schedule = []\n",
    "    days = []\n",
    "    newdose = dose/4\n",
    "    target = newdose*.1\n",
    "    schedule.append(newdose)\n",
    "    days.append(1)\n",
    "    i = 2\n",
    "\n",
    "    while newdose > target: \n",
    "        if i % 2 != 0:\n",
    "            newdose -= target\n",
    "        schedule.append(newdose)\n",
    "        days.append(i)\n",
    "        i += 1\n",
    "    \n",
    "    interval = [4,4,3,3,2,2,1]\n",
    "    for i in range(len(days)-4//2): \n",
    "        interval.append(1)\n",
    "\n",
    "    perdose = [i / j for i,j in zip(schedule, interval)]\n",
    "    interval = [int(24/i) for i in interval]\n",
    "    \n",
    "    return(list(zip(days,schedule,perdose,interval)))"
   ]
  },
  {
   "cell_type": "code",
   "execution_count": 215,
   "metadata": {},
   "outputs": [
    {
     "data": {
      "text/plain": [
       "[(1, 4.301128539202096, 1.075282134800524, 6),\n",
       " (2, 4.301128539202096, 1.075282134800524, 6),\n",
       " (3, 3.871015685281886, 1.2903385617606287, 8),\n",
       " (4, 3.871015685281886, 1.2903385617606287, 8),\n",
       " (5, 3.4409028313616767, 1.7204514156808384, 12),\n",
       " (6, 3.4409028313616767, 1.7204514156808384, 12),\n",
       " (7, 3.0107899774414673, 3.0107899774414673, 24),\n",
       " (8, 3.0107899774414673, 3.0107899774414673, 24),\n",
       " (9, 2.5806771235212578, 2.5806771235212578, 24),\n",
       " (10, 2.5806771235212578, 2.5806771235212578, 24),\n",
       " (11, 2.1505642696010483, 2.1505642696010483, 24),\n",
       " (12, 2.1505642696010483, 2.1505642696010483, 24),\n",
       " (13, 1.7204514156808388, 1.7204514156808388, 24),\n",
       " (14, 1.7204514156808388, 1.7204514156808388, 24),\n",
       " (15, 1.2903385617606293, 1.2903385617606293, 24),\n",
       " (16, 1.2903385617606293, 1.2903385617606293, 24),\n",
       " (17, 0.8602257078404197, 0.8602257078404197, 24),\n",
       " (18, 0.8602257078404197, 0.8602257078404197, 24),\n",
       " (19, 0.43011285392021015, 0.43011285392021015, 24),\n",
       " (20, 0.43011285392021015, 0.43011285392021015, 24),\n",
       " (21, 5.551115123125783e-16, 5.551115123125783e-16, 24)]"
      ]
     },
     "execution_count": 215,
     "metadata": {},
     "output_type": "execute_result"
    }
   ],
   "source": [
    "highdose = np.random.normal(20,5)\n",
    "\n",
    "slowtaper(highdose)"
   ]
  },
  {
   "cell_type": "code",
   "execution_count": null,
   "metadata": {},
   "outputs": [],
   "source": []
  },
  {
   "cell_type": "code",
   "execution_count": null,
   "metadata": {},
   "outputs": [],
   "source": []
  }
 ],
 "metadata": {
  "kernelspec": {
   "display_name": "Python 3",
   "language": "python",
   "name": "python3"
  },
  "language_info": {
   "codemirror_mode": {
    "name": "ipython",
    "version": 3
   },
   "file_extension": ".py",
   "mimetype": "text/x-python",
   "name": "python",
   "nbconvert_exporter": "python",
   "pygments_lexer": "ipython3",
   "version": "3.8.5"
  }
 },
 "nbformat": 4,
 "nbformat_minor": 4
}
