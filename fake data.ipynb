{
 "cells": [
  {
   "cell_type": "code",
   "execution_count": 67,
   "metadata": {},
   "outputs": [],
   "source": [
    "import numpy as np"
   ]
  },
  {
   "cell_type": "code",
   "execution_count": 68,
   "metadata": {},
   "outputs": [
    {
     "data": {
      "text/plain": [
       "9.461156109907721"
      ]
     },
     "execution_count": 68,
     "metadata": {},
     "output_type": "execute_result"
    }
   ],
   "source": [
    "dose"
   ]
  },
  {
   "cell_type": "code",
   "execution_count": 69,
   "metadata": {},
   "outputs": [],
   "source": [
    "m1 = [0.25, 5.0]\n",
    "m2 = [2.625, 5.0]\n",
    "m3 = [4.1, 6.0]\n",
    "m4 = [5.083333333333333, 6.666666666666667]"
   ]
  },
  {
   "cell_type": "code",
   "execution_count": 84,
   "metadata": {},
   "outputs": [
    {
     "name": "stdout",
     "output_type": "stream",
     "text": [
      "0.5891803531176955\n",
      "0.4713442824941564\n",
      "0.3770754259953251\n",
      "0.30166034079626014\n",
      "0.24132827263700812\n",
      "0.1930626181096065\n",
      "0.1544500944876852\n",
      "0.12356007559014817\n"
     ]
    }
   ],
   "source": [
    "i = 0\n",
    "newdose = dose/4\n",
    "target = newdose*.2\n",
    "\n",
    "while newdose > target: \n",
    "    newdose *= 0.8\n",
    "    schedule.append(newdose)\n",
    "    days.append(i)\n",
    "    print(newdose)\n",
    "    i += 1"
   ]
  },
  {
   "cell_type": "code",
   "execution_count": 165,
   "metadata": {},
   "outputs": [],
   "source": [
    "schedule = []\n",
    "days = []\n",
    "newdose = dose/4\n",
    "target = newdose*.2\n",
    "schedule.append(newdose)\n",
    "days.append(1)\n",
    "i = 2\n",
    "\n",
    "while newdose > target: \n",
    "    newdose -= target\n",
    "    schedule.append(newdose)\n",
    "    days.append(i)\n",
    "    i += 1\n",
    "\n",
    "interval = [4,3,2,1]\n",
    "for i in range(len(days)-4): \n",
    "    interval.append(1)\n",
    "\n",
    "perdose = [i / j for i,j in zip(schedule, interval)]"
   ]
  },
  {
   "cell_type": "code",
   "execution_count": null,
   "metadata": {},
   "outputs": [],
   "source": []
  },
  {
   "cell_type": "code",
   "execution_count": 200,
   "metadata": {},
   "outputs": [],
   "source": [
    "def fasttaper(dose): \n",
    "    schedule = []\n",
    "    days = []\n",
    "    newdose = dose/4\n",
    "    target = newdose*.2\n",
    "    schedule.append(newdose)\n",
    "    days.append(1)\n",
    "    i = 2\n",
    "\n",
    "    while newdose > target: \n",
    "        newdose -= target\n",
    "        schedule.append(newdose)\n",
    "        days.append(i)\n",
    "        i += 1\n",
    "\n",
    "    interval = [4,3,2,1]\n",
    "    for i in range(len(days)-4): \n",
    "        interval.append(1)\n",
    "\n",
    "    perdose = [i / j for i,j in zip(schedule, interval)]\n",
    "    \n",
    "    return(list(zip(days,schedule,perdose)))"
   ]
  },
  {
   "cell_type": "code",
   "execution_count": 201,
   "metadata": {},
   "outputs": [
    {
     "data": {
      "text/plain": [
       "[(1, 1.2676511143200195, 0.3169127785800049),\n",
       " (2, 1.0141208914560156, 0.3380402971520052),\n",
       " (3, 0.7605906685920116, 0.3802953342960058),\n",
       " (4, 0.5070604457280077, 0.5070604457280077),\n",
       " (5, 0.2535302228640038, 0.2535302228640038)]"
      ]
     },
     "execution_count": 201,
     "metadata": {},
     "output_type": "execute_result"
    }
   ],
   "source": [
    "smalldose = np.random.normal(5,2)\n",
    "fasttaper(smalldose)"
   ]
  },
  {
   "cell_type": "code",
   "execution_count": 204,
   "metadata": {},
   "outputs": [],
   "source": [
    "def medtaper(dose): \n",
    "    schedule = []\n",
    "    days = []\n",
    "    newdose = dose/4\n",
    "    target = newdose*.1\n",
    "    schedule.append(newdose)\n",
    "    days.append(1)\n",
    "    i = 2\n",
    "\n",
    "    while newdose > target: \n",
    "        newdose -= target\n",
    "        schedule.append(newdose)\n",
    "        days.append(i)\n",
    "        i += 1\n",
    "        \n",
    "    interval = [4,3,2,1]\n",
    "    for i in range(len(days)-4): \n",
    "        interval.append(1)\n",
    "\n",
    "    perdose = [i / j for i,j in zip(schedule, interval)]\n",
    "    \n",
    "    return(list(zip(days,schedule,perdose)))"
   ]
  },
  {
   "cell_type": "code",
   "execution_count": 205,
   "metadata": {},
   "outputs": [
    {
     "data": {
      "text/plain": [
       "[(1, 1.1695488549467508, 0.2923872137366877),\n",
       " (2, 1.0525939694520756, 0.3508646564840252),\n",
       " (3, 0.9356390839574005, 0.46781954197870024),\n",
       " (4, 0.8186841984627253, 0.8186841984627253),\n",
       " (5, 0.7017293129680502, 0.7017293129680502),\n",
       " (6, 0.584774427473375, 0.584774427473375),\n",
       " (7, 0.46781954197869996, 0.46781954197869996),\n",
       " (8, 0.3508646564840249, 0.3508646564840249),\n",
       " (9, 0.23390977098934979, 0.23390977098934979),\n",
       " (10, 0.1169548854946747, 0.1169548854946747)]"
      ]
     },
     "execution_count": 205,
     "metadata": {},
     "output_type": "execute_result"
    }
   ],
   "source": [
    "meddose = np.random.normal(5,2)\n",
    "medtaper(meddose)"
   ]
  },
  {
   "cell_type": "code",
   "execution_count": 196,
   "metadata": {},
   "outputs": [],
   "source": [
    "def slowtaper(dose): \n",
    "    schedule = []\n",
    "    days = []\n",
    "    newdose = dose/4\n",
    "    target = newdose*.1\n",
    "    schedule.append(newdose)\n",
    "    days.append(1)\n",
    "    i = 2\n",
    "\n",
    "    while newdose > target: \n",
    "        if i % 2 != 0:\n",
    "            newdose -= target\n",
    "        schedule.append(newdose)\n",
    "        days.append(i)\n",
    "        i += 1\n",
    "    \n",
    "    interval = [4,4,3,3,2,2,1]\n",
    "    for i in range(len(days)-4//2): \n",
    "        interval.append(1)\n",
    "\n",
    "    perdose = [i / j for i,j in zip(schedule, interval)]\n",
    "    \n",
    "    return(list(zip(days,schedule,perdose)))"
   ]
  },
  {
   "cell_type": "code",
   "execution_count": 197,
   "metadata": {},
   "outputs": [
    {
     "data": {
      "text/plain": [
       "[(1, 3.8301276379891886, 0.9575319094972972),\n",
       " (2, 3.8301276379891886, 0.9575319094972972),\n",
       " (3, 3.4471148741902695, 1.1490382913967565),\n",
       " (4, 3.4471148741902695, 1.1490382913967565),\n",
       " (5, 3.0641021103913504, 1.5320510551956752),\n",
       " (6, 3.0641021103913504, 1.5320510551956752),\n",
       " (7, 2.6810893465924313, 2.6810893465924313),\n",
       " (8, 2.6810893465924313, 2.6810893465924313),\n",
       " (9, 2.298076582793512, 2.298076582793512),\n",
       " (10, 2.298076582793512, 2.298076582793512),\n",
       " (11, 1.9150638189945932, 1.9150638189945932),\n",
       " (12, 1.9150638189945932, 1.9150638189945932),\n",
       " (13, 1.5320510551956743, 1.5320510551956743),\n",
       " (14, 1.5320510551956743, 1.5320510551956743),\n",
       " (15, 1.1490382913967554, 1.1490382913967554),\n",
       " (16, 1.1490382913967554, 1.1490382913967554),\n",
       " (17, 0.7660255275978365, 0.7660255275978365),\n",
       " (18, 0.7660255275978365, 0.7660255275978365),\n",
       " (19, 0.3830127637989176, 0.3830127637989176)]"
      ]
     },
     "execution_count": 197,
     "metadata": {},
     "output_type": "execute_result"
    }
   ],
   "source": [
    "highdose = np.random.normal(20,5)\n",
    "\n",
    "slowtaper(highdose)"
   ]
  },
  {
   "cell_type": "code",
   "execution_count": null,
   "metadata": {},
   "outputs": [],
   "source": []
  },
  {
   "cell_type": "code",
   "execution_count": null,
   "metadata": {},
   "outputs": [],
   "source": []
  }
 ],
 "metadata": {
  "kernelspec": {
   "display_name": "Python 3",
   "language": "python",
   "name": "python3"
  },
  "language_info": {
   "codemirror_mode": {
    "name": "ipython",
    "version": 3
   },
   "file_extension": ".py",
   "mimetype": "text/x-python",
   "name": "python",
   "nbconvert_exporter": "python",
   "pygments_lexer": "ipython3",
   "version": "3.8.5"
  }
 },
 "nbformat": 4,
 "nbformat_minor": 4
}
